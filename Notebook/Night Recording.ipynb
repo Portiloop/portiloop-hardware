{
 "cells": [
  {
   "cell_type": "code",
   "execution_count": 27,
   "metadata": {
    "ExecuteTime": {
     "end_time": "2021-05-27T20:40:08.004211Z",
     "start_time": "2021-05-27T20:40:04.894563Z"
    }
   },
   "outputs": [],
   "source": [
    "from pynq import Overlay\n",
    "ol = Overlay(\"/home/xilinx/pynq/overlays/portiloop/portiloop.bit\")"
   ]
  },
  {
   "cell_type": "code",
   "execution_count": 28,
   "metadata": {
    "ExecuteTime": {
     "end_time": "2021-05-27T20:40:08.490471Z",
     "start_time": "2021-05-27T20:40:08.017879Z"
    }
   },
   "outputs": [],
   "source": [
    "from pynq.lib.arduino import Arduino_Portiloop_Microblaze\n",
    "adc = Arduino_Portiloop_Microblaze(ol, \"0000testnew2\",nb_eeg = 1, nb_ecg=0, nb_buffer = 2, filter_12_16=1, filter_lp_35=1)"
   ]
  },
  {
   "cell_type": "markdown",
   "metadata": {},
   "source": [
    "résultat à obtenir (sinon redémarrer la carte):\n",
    "0x3e\n",
    "0x95\n",
    "0xc0\n",
    "0xe0\n",
    "0x0\n",
    "0x60\n",
    "0x60\n",
    "0x60\n",
    "0x60\n",
    "0x60\n",
    "0x60\n",
    "0x60\n",
    "0xe0\n",
    "0x0\n",
    "0x0\n",
    "0xff\n",
    "0xff\n",
    "0x0\n",
    "0x0\n",
    "0x0\n",
    "0x0\n",
    "0x20\n",
    "0x0\n",
    "0x0\n",
    "0x0\n",
    "0x0"
   ]
  },
  {
   "cell_type": "code",
   "execution_count": 29,
   "metadata": {
    "ExecuteTime": {
     "end_time": "2021-05-27T20:40:09.467125Z",
     "start_time": "2021-05-27T20:40:08.511969Z"
    }
   },
   "outputs": [
    {
     "name": "stdout",
     "output_type": "stream",
     "text": [
      "0x3e\n",
      "0x95\n",
      "0xc0\n",
      "0xe0\n",
      "0x0\n",
      "0x60\n",
      "0x60\n",
      "0x60\n",
      "0x60\n",
      "0x60\n",
      "0x60\n",
      "0x60\n",
      "0xe0\n",
      "0x0\n",
      "0x0\n",
      "0xff\n",
      "0xff\n",
      "0x0\n",
      "0x0\n",
      "0x0\n",
      "0x0\n",
      "0x20\n",
      "0x0\n",
      "0x0\n",
      "0x0\n",
      "0x0\n"
     ]
    }
   ],
   "source": [
    "r = adc.read_register()\n",
    "for i in r:\n",
    "    print(hex(i))"
   ]
  },
  {
   "cell_type": "code",
   "execution_count": 30,
   "metadata": {
    "ExecuteTime": {
     "end_time": "2021-05-27T20:40:22.232443Z",
     "start_time": "2021-05-27T20:40:09.490200Z"
    }
   },
   "outputs": [
    {
     "name": "stdout",
     "output_type": "stream",
     "text": [
      "Episode  0\n",
      "t mean 0.002683680852254232\n",
      "tmax 0.011130094528198242\n",
      "Episode  1\n",
      "t mean 0.002462946573893229\n",
      "tmax 0.0035698413848876953\n"
     ]
    }
   ],
   "source": [
    "adc.acquire_data(length_buff_ms = 40, length_buffer_minutes = 0.1, nb_cycles = 2)"
   ]
  },
  {
   "cell_type": "code",
   "execution_count": null,
   "metadata": {},
   "outputs": [],
   "source": []
  }
 ],
 "metadata": {
  "kernelspec": {
   "display_name": "Python 3",
   "language": "python",
   "name": "python3"
  }
 },
 "nbformat": 4,
 "nbformat_minor": 2
}
